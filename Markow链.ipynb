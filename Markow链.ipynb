{
 "cells": [
  {
   "cell_type": "markdown",
   "id": "428d62bb-bbb7-40b9-9b81-06d6513cec17",
   "metadata": {},
   "source": [
    "#  <center>Markow链"
   ]
  },
  {
   "cell_type": "markdown",
   "id": "96e2536d-50a8-4b85-ace0-f6a16026e140",
   "metadata": {
    "tags": []
   },
   "source": [
    "##  <center>1. Markow链的定义和转移概率"
   ]
  },
  {
   "cell_type": "markdown",
   "id": "53426f4c-3218-4d1d-808b-3d87736f6be0",
   "metadata": {},
   "source": [
    "定义1 随机过程 $\\left\\{X_n, n=0,1,2, \\cdots\\right\\}$ 称为 Markov 链：  \n",
    "①若它只取有限或可 列个值 (若不另外说明, 以非负整数集 $\\{0,1,2, \\cdots\\}$ 来表示)  \n",
    "②并且对任意的 $n \\geqslant 0$, 及任意状态 $i, j, i_0, i_1, \\cdots, i_{n-1}$, 有  \n",
    "$$\n",
    "\\begin{aligned}\n",
    "& P\\left\\{X_{n+1}=j \\mid X_n=i, X_{n-1}=i_{n-1}, \\cdots, X_1=i_1, X_0=i_0\\right\\} \\\\\n",
    "= & P\\left\\{X_{n+1}=j \\mid X_n=i\\right\\} 或 =  p_{ij}\n",
    "\\end{aligned}\n",
    "$$"
   ]
  },
  {
   "cell_type": "markdown",
   "id": "e1136663-9795-435b-b59d-17c28dc5f41b",
   "metadata": {},
   "source": [
    "定义2 一步转移概率与转移矩阵：\n",
    "$$\n",
    "\\begin{aligned}\n",
    "& p_{ij}\n",
    "= P\\left\\{X_{n+1}=j \\mid X_n=i\\right\\} \\\\\n",
    "& \\boldsymbol{P}=\\left(p_{i j}\\right)=\\left(\\begin{array}{cccc}\n",
    "p_{00} & p_{01} & p_{02} & \\cdots \\\\\n",
    "p_{10} & p_{11} & p_{12} & \\cdots \\\\\n",
    "\\vdots & \\vdots & \\vdots & \\\\\n",
    "p_{i 0} & p_{i 1} & p_{i 2} & \\cdots \\\\\n",
    "\\vdots & \\vdots & \\vdots &\n",
    "\\end{array}\\right) (p_{ij}\\geqslant 0,i,j\\in S; \\sum_{j \\in S}p_{ij} = 1,i\\in S, S为状态空间 )\n",
    "\\end{aligned}\n",
    "$$"
   ]
  },
  {
   "cell_type": "markdown",
   "id": "68c03a7e-8fc2-4efb-a689-feed33488ce4",
   "metadata": {},
   "source": [
    "定义3 n步转移概率与n步转移矩阵：\n",
    "$$\n",
    "\\begin{aligned}\n",
    "& p_{ij}^{(n)} = P\\{X_{m+n} = j | X_{m} = i\\} (i, j \\in S; m\\geqslant 0 ,n \\geqslant 1) \\\\\n",
    "& \\boldsymbol{P^{(n)}}=\\left(p_{i j}^{(n)}\\right)\n",
    "\\end{aligned}\n",
    "$$"
   ]
  },
  {
   "cell_type": "markdown",
   "id": "fb7e3da9-cdb3-4246-9ee7-7dd95a2db203",
   "metadata": {},
   "source": [
    "定理1 C-K方程：\n",
    "$$\n",
    "\\begin{aligned}\n",
    "& p_{ij}^{(m+n)} = \\sum_{k \\in S} p_{ik}^{m} p_{kj}^{n} \\\\\n",
    "& \\boldsymbol{P^{(n)}}=  \\boldsymbol{P^{(n)}} · \\boldsymbol{P} =  \\boldsymbol{P^{n}}\n",
    "\\end{aligned}\n",
    "$$"
   ]
  },
  {
   "cell_type": "markdown",
   "id": "bbc3a32e-6b0d-452f-bde2-f181cc2f9ebb",
   "metadata": {
    "tags": []
   },
   "source": [
    "例题1：甲乙两人进行某种比赛,设每局甲胜的概率是 $p$,乙胜的概率是 $q$, 和局的概率是$r, p+q+r=1$。设每局比赛后,胜者记“+ 1”分,负者记“- 1”分, 和局不记分, 且当两人中有一人获得2分时结束比赛。以 $X_n$ 表示比赛至第$n$局时甲获得的分数, 则 $\\left\\{X_n, n=0,1,2, \\cdots\\right\\}$ 为时齐 Markov 链, 求在甲获得 1 分的情况下, 不超过两局可结束比赛的概率。"
   ]
  },
  {
   "cell_type": "markdown",
   "id": "8258675a-82fa-4f4d-b25b-0ccbc572397b",
   "metadata": {
    "tags": []
   },
   "source": [
    "$X_n$的状态空间为$\\{-2, -1, 0, 1, 2\\}$, $X_n$的一步转移矩阵和二步转移矩阵为："
   ]
  },
  {
   "cell_type": "code",
   "execution_count": 14,
   "id": "16c981d1-2f24-4fc5-83b1-4ff3808585ec",
   "metadata": {
    "tags": []
   },
   "outputs": [
    {
     "name": "stdout",
     "output_type": "stream",
     "text": [
      "一步转移矩阵:\n"
     ]
    },
    {
     "data": {
      "text/latex": [
       "$\\displaystyle \\left[\\begin{matrix}1 & 0 & 0 & 0 & 0\\\\q & r & p & 0 & 0\\\\0 & q & r & p & 0\\\\0 & 0 & q & r & p\\\\0 & 0 & 0 & 0 & 1\\end{matrix}\\right]$"
      ],
      "text/plain": [
       "Matrix([\n",
       "[1, 0, 0, 0, 0],\n",
       "[q, r, p, 0, 0],\n",
       "[0, q, r, p, 0],\n",
       "[0, 0, q, r, p],\n",
       "[0, 0, 0, 0, 1]])"
      ]
     },
     "execution_count": 14,
     "metadata": {},
     "output_type": "execute_result"
    }
   ],
   "source": [
    "from sympy import symbols, Matrix\n",
    "# Define the symbols\n",
    "p, q, r = symbols('p q r')\n",
    "\n",
    "# Define the matrix\n",
    "A = Matrix([\n",
    "    [1, 0, 0, 0, 0],\n",
    "    [q, r, p, 0, 0],\n",
    "    [0, q, r, p, 0],\n",
    "    [0, 0, q, r, p],\n",
    "    [0, 0, 0, 0, 1]])\n",
    "print('一步转移矩阵:')\n",
    "A"
   ]
  },
  {
   "cell_type": "code",
   "execution_count": 15,
   "id": "2b5b5b1e-1e70-49d9-b928-a6ee288d3563",
   "metadata": {
    "tags": []
   },
   "outputs": [
    {
     "name": "stdout",
     "output_type": "stream",
     "text": [
      "二步转移矩阵:\n"
     ]
    },
    {
     "data": {
      "text/latex": [
       "$\\displaystyle \\left[\\begin{matrix}1 & 0 & 0 & 0 & 0\\\\q r + q & p q + r^{2} & 2 p r & p^{2} & 0\\\\q^{2} & 2 q r & 2 p q + r^{2} & 2 p r & p^{2}\\\\0 & q^{2} & 2 q r & p q + r^{2} & p r + p\\\\0 & 0 & 0 & 0 & 1\\end{matrix}\\right]$"
      ],
      "text/plain": [
       "Matrix([\n",
       "[      1,          0,            0,          0,       0],\n",
       "[q*r + q, p*q + r**2,        2*p*r,       p**2,       0],\n",
       "[   q**2,      2*q*r, 2*p*q + r**2,      2*p*r,    p**2],\n",
       "[      0,       q**2,        2*q*r, p*q + r**2, p*r + p],\n",
       "[      0,          0,            0,          0,       1]])"
      ]
     },
     "execution_count": 15,
     "metadata": {},
     "output_type": "execute_result"
    }
   ],
   "source": [
    "# Compute the result\n",
    "A2 = A * A\n",
    "# Display the result\n",
    "print('二步转移矩阵:')\n",
    "A2"
   ]
  },
  {
   "cell_type": "code",
   "execution_count": 19,
   "id": "03f18e5e-415e-46e9-aa41-9ba0ba4f7621",
   "metadata": {
    "tags": []
   },
   "outputs": [
    {
     "name": "stdout",
     "output_type": "stream",
     "text": [
      "不超过两局可结束比赛的概率为\n"
     ]
    },
    {
     "data": {
      "text/latex": [
       "$\\displaystyle p^{2} + 2 p r$"
      ],
      "text/plain": [
       "p**2 + 2*p*r"
      ]
     },
     "execution_count": 19,
     "metadata": {},
     "output_type": "execute_result"
    }
   ],
   "source": [
    "P_end = A2[1,2] + A2[1,-2] \n",
    "print('不超过两局可结束比赛的概率为')\n",
    "P_end"
   ]
  },
  {
   "cell_type": "markdown",
   "id": "4a884f94-b245-48f8-a141-7aa193673adb",
   "metadata": {
    "tags": []
   },
   "source": [
    "Reference:  \n",
    "Ross, S. M. (2006). Markov Chains. In Introduction to Probability Models (10th ed., pp. 192-204). Elsevier Science & Technology.  \n",
    "张波, & 商豪. (2014). 应用随机过程(第三版). 中国人民大学出版社. (pp. 74-79)"
   ]
  },
  {
   "cell_type": "markdown",
   "id": "4c88ed76-1c6f-44ce-8c61-bf9e8c7911a6",
   "metadata": {},
   "source": [
    "---"
   ]
  },
  {
   "cell_type": "markdown",
   "id": "1020e624-4406-4147-8e34-fbee460c5d61",
   "metadata": {
    "tags": []
   },
   "source": [
    "##  <center>2. 状态的分类和性质"
   ]
  },
  {
   "cell_type": "markdown",
   "id": "5b8db59d-7f1f-4362-9ed8-d324c49b7a44",
   "metadata": {},
   "source": [
    "定义 1 称状态 $i$ 可达状态 $j(i, j \\in S)$, 若存在 $n \\geqslant 0$ 使得 $p_{i j}^{(n)}>0$, 记为 $i \\rightarrow$ $j$ 。若同时有 $j \\rightarrow i$, 则称 $i$ 与 $j$ 互通, 记为 $i \\leftrightarrow j$ 。  \n",
    "定理 1 互通是一种等价关系, 即满足:  \n",
    "(1) 自返性: $i \\leftrightarrow i$;  \n",
    "(2) 对称性: $i \\leftrightarrow j$, 则 $j \\leftrightarrow i$;  \n",
    "(3) 传递性: $i \\leftrightarrow j, j \\leftrightarrow k$, 则 $i \\leftrightarrow k$ 。  "
   ]
  },
  {
   "cell_type": "markdown",
   "id": "45ba4260-ba9c-4858-a9eb-2711fa198e27",
   "metadata": {
    "tags": []
   },
   "source": [
    "定义 2 对于任何状态 $i, j$, 以 $f_{i j}^{(n)}$ 记从 $i$ 出发经 $n$ 步后首次到达 $j$ 的概率, 则有  \n",
    "$$\n",
    "\\begin{aligned}\n",
    "& f_{i j}^{(0)}=p_{i j} \\\\\n",
    "& f_{i j}^{(n)}=P\\left\\{X_n=j, X_k \\neq j, k=1,2, \\cdots, n-1 \\mid X_0=i\\right\\}, n \\geqslant 1\n",
    "\\end{aligned}\n",
    "$$\n",
    "令 $f_{i j}=\\sum_{n=1}^{\\infty} f_{i j}^{(n)}$, 若 $f_{i j}=1$, 称状态 $j$ 为常返状态; 若 $f_{j j}<1$, 称状态 $j$ 为非常返状态 或瞬过状态。  \n",
    "定理 2 状态 $i$ 为常返的当且仅当 $\\sum_{n=0}^{\\infty} p_{i i}^{(n)}=\\infty$; 状态 $i$ 为非常返状态时有 $\\sum_{n=0}^{\\infty} p_{i i}^{(n)}=\\frac{1}{1-f_{i i}}$.  \n",
    "定理 3 常返性是一个类性质，若 $i \\leftrightarrow j$，则$i$,$j$同为常返态或非常返态。"
   ]
  },
  {
   "cell_type": "markdown",
   "id": "c4185cb9-695c-46b4-a723-42c1a4cc7bca",
   "metadata": {
    "tags": []
   },
   "source": [
    "Example 1 Consider the Markov chain having states $0,1,2,3,4$ and\n",
    "$$\n",
    "\\mathbf{P}=\\left\\|\\begin{array}{lllll}\n",
    "\\frac{1}{2} & \\frac{1}{2} & 0 & 0 & 0 \\\\\n",
    "\\frac{1}{2} & \\frac{1}{2} & 0 & 0 & 0 \\\\\n",
    "0 & 0 & \\frac{1}{2} & \\frac{1}{2} & 0 \\\\\n",
    "0 & 0 & \\frac{1}{2} & \\frac{1}{2} & 0 \\\\\n",
    "\\frac{1}{4} & \\frac{1}{4} & 0 & 0 & \\frac{1}{2}\n",
    "\\end{array}\\right\\|\n",
    "$$\n",
    "Determine the recurrent state."
   ]
  },
  {
   "cell_type": "code",
   "execution_count": 25,
   "id": "b6487064-271b-4f4e-9858-41bd69c33af4",
   "metadata": {
    "tags": []
   },
   "outputs": [
    {
     "data": {
      "image/png": "[encoded data removed]",
      "text/plain": [
       "Plot with title \"\""
      ]
     },
     "metadata": {
      "image/png": {
       "height": 420,
       "width": 420
      }
     },
     "output_type": "display_data"
    }
   ],
   "source": [
    "#install.packages(\"diagram\")\n",
    "#install.packages(\"expm\")\n",
    "#install.packages(\"markovchain\")\n",
    "\n",
    "#specifying transition probability matrix\n",
    "library(shape)\n",
    "tm<- matrix(c(0.5, 0.5, 0  , 0  , 0  , \n",
    "              0.5, 0.5, 0  , 0  , 0  ,\n",
    "              0  , 0  , 0.5, 0.5, 0  ,\n",
    "              0  , 0  , 0.5, 0.5, 0  ,\n",
    "            0.25, 0.25, 0  , 0  , 0.5 \n",
    "              ),\n",
    "            nrow=5, ncol=5, byrow=TRUE)\n",
    "#transposing transition probability matrix\n",
    "tm.tr<- t(tm)\n",
    "#plotting diagram\n",
    "library(diagram)\n",
    "\n",
    "plotmat(tm.tr, arr.length=0.3, arr.width=0.1,\n",
    "        box.col=\"light blue\", box.lwd=1, box.prop=0.5, box.size=0.12,\n",
    "        box.type=\"circle\", cex.txt=0.8, lwd=1, self.cex=0.6,\n",
    "        self.shiftx=0.17, self.shifty=-0.01)"
   ]
  },
  {
   "cell_type": "code",
   "execution_count": 33,
   "id": "5e66e642-667b-43b0-a566-c37e095119bb",
   "metadata": {
    "tags": []
   },
   "outputs": [
    {
     "name": "stdout",
     "output_type": "stream",
     "text": [
      "[1] \"常返类和常返状态为：\"\n"
     ]
    },
    {
     "data": {
      "text/html": [
       "<ol>\n",
       "\t<li><style>\n",
       ".list-inline {list-style: none; margin:0; padding: 0}\n",
       ".list-inline>li {display: inline-block}\n",
       ".list-inline>li:not(:last-child)::after {content: \"\\00b7\"; padding: 0 .5ex}\n",
       "</style>\n",
       "<ol class=list-inline><li>'1'</li><li>'2'</li></ol>\n",
       "</li>\n",
       "\t<li><style>\n",
       ".list-inline {list-style: none; margin:0; padding: 0}\n",
       ".list-inline>li {display: inline-block}\n",
       ".list-inline>li:not(:last-child)::after {content: \"\\00b7\"; padding: 0 .5ex}\n",
       "</style>\n",
       "<ol class=list-inline><li>'3'</li><li>'4'</li></ol>\n",
       "</li>\n",
       "</ol>\n"
      ],
      "text/latex": [
       "\\begin{enumerate}\n",
       "\\item \\begin{enumerate*}\n",
       "\\item '1'\n",
       "\\item '2'\n",
       "\\end{enumerate*}\n",
       "\n",
       "\\item \\begin{enumerate*}\n",
       "\\item '3'\n",
       "\\item '4'\n",
       "\\end{enumerate*}\n",
       "\n",
       "\\end{enumerate}\n"
      ],
      "text/markdown": [
       "1. 1. '1'\n",
       "2. '2'\n",
       "\n",
       "\n",
       "\n",
       "2. 1. '3'\n",
       "2. '4'\n",
       "\n",
       "\n",
       "\n",
       "\n",
       "\n"
      ],
      "text/plain": [
       "[[1]]\n",
       "[1] \"1\" \"2\"\n",
       "\n",
       "[[2]]\n",
       "[1] \"3\" \"4\"\n"
      ]
     },
     "metadata": {},
     "output_type": "display_data"
    },
    {
     "name": "stdout",
     "output_type": "stream",
     "text": [
      "[1] \"瞬时类和瞬时状态为：\"\n"
     ]
    },
    {
     "data": {
      "text/html": [
       "<ol>\n",
       "\t<li>'5'</li>\n",
       "</ol>\n"
      ],
      "text/latex": [
       "\\begin{enumerate}\n",
       "\\item '5'\n",
       "\\end{enumerate}\n"
      ],
      "text/markdown": [
       "1. '5'\n",
       "\n",
       "\n"
      ],
      "text/plain": [
       "[[1]]\n",
       "[1] \"5\"\n"
      ]
     },
     "metadata": {},
     "output_type": "display_data"
    }
   ],
   "source": [
    "#creating Markov chain object\n",
    "library(markovchain)\n",
    "mc<- new(\"markovchain\", transitionMatrix=tm, states=c(\"1\",\"2\", \"3\", \"4\", \"5\"))\n",
    "#computing Markov chain characteristics\n",
    "print('常返类和常返状态为：')\n",
    "recurrentClasses(mc)\n",
    "print('瞬时类和瞬时状态为：')\n",
    "transientClasses(mc)"
   ]
  }
 ],
 "metadata": {
  "kernelspec": {
   "display_name": "R 4.3.1",
   "language": "R",
   "name": "ir431"
  },
  "language_info": {
   "codemirror_mode": "r",
   "file_extension": ".r",
   "mimetype": "text/x-r-source",
   "name": "R",
   "pygments_lexer": "r",
   "version": "4.3.1"
  }
 },
 "nbformat": 4,
 "nbformat_minor": 5
}
