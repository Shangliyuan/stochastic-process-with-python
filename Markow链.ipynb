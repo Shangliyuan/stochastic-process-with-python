{
 "cells": [
  {
   "cell_type": "markdown",
   "id": "428d62bb-bbb7-40b9-9b81-06d6513cec17",
   "metadata": {},
   "source": [
    "## Markow链"
   ]
  },
  {
   "cell_type": "markdown",
   "id": "53426f4c-3218-4d1d-808b-3d87736f6be0",
   "metadata": {},
   "source": [
    "定义1 随机过程 $\\left\\{X_n, n=0,1,2, \\cdots\\right\\}$ 称为 Markov 链：  \n",
    "①若它只取有限或可 列个值 (若不另外说明, 以非负整数集 $\\{0,1,2, \\cdots\\}$ 来表示)  \n",
    "②并且对任意的 $n \\geqslant 0$, 及任意状态 $i, j, i_0, i_1, \\cdots, i_{n-1}$, 有  \n",
    "$$\n",
    "\\begin{aligned}\n",
    "& P\\left\\{X_{n+1}=j \\mid X_n=i, X_{n-1}=i_{n-1}, \\cdots, X_1=i_1, X_0=i_0\\right\\} \\\\\n",
    "= & P\\left\\{X_{n+1}=j \\mid X_n=i\\right\\} 或 =  p_{ij}\n",
    "\\end{aligned}\n",
    "$$"
   ]
  },
  {
   "cell_type": "markdown",
   "id": "e1136663-9795-435b-b59d-17c28dc5f41b",
   "metadata": {},
   "source": [
    "定义2 一步转移概率与转移矩阵：\n",
    "$$\n",
    "\\begin{aligned}\n",
    "& p_{ij}\n",
    "= P\\left\\{X_{n+1}=j \\mid X_n=i\\right\\} \\\\\n",
    "& \\boldsymbol{P}=\\left(p_{i j}\\right)=\\left(\\begin{array}{cccc}\n",
    "p_{00} & p_{01} & p_{02} & \\cdots \\\\\n",
    "p_{10} & p_{11} & p_{12} & \\cdots \\\\\n",
    "\\vdots & \\vdots & \\vdots & \\\\\n",
    "p_{i 0} & p_{i 1} & p_{i 2} & \\cdots \\\\\n",
    "\\vdots & \\vdots & \\vdots &\n",
    "\\end{array}\\right) (p_{ij}\\geqslant 0,i,j\\in S; \\sum_{j \\in S}p_{ij} = 1,i\\in S, S为状态空间 )\n",
    "\\end{aligned}\n",
    "$$"
   ]
  },
  {
   "cell_type": "markdown",
   "id": "68c03a7e-8fc2-4efb-a689-feed33488ce4",
   "metadata": {},
   "source": [
    "定义3 n步转移概率与n步转移矩阵：\n",
    "$$\n",
    "\\begin{aligned}\n",
    "& p_{ij}^{(n)} = P\\{X_{m+n} = j | X_{m} = i\\} (i, j \\in S; m\\geqslant 0 ,n \\geqslant 1) \\\\\n",
    "& \\boldsymbol{P^{(n)}}=\\left(p_{i j}^{(n)}\\right)\n",
    "\\end{aligned}\n",
    "$$"
   ]
  },
  {
   "cell_type": "markdown",
   "id": "fb7e3da9-cdb3-4246-9ee7-7dd95a2db203",
   "metadata": {},
   "source": [
    "定理1 C-K方程：\n",
    "$$\n",
    "\\begin{aligned}\n",
    "& p_{ij}^{(m+n)} = \\sum_{k \\in S} p_{ik}^{m} p_{kj}^{n} \\\\\n",
    "& \\boldsymbol{P^{(n)}}=  \\boldsymbol{P^{(n)}} · \\boldsymbol{P} =  \\boldsymbol{P^{n}}\n",
    "\\end{aligned}\n",
    "$$"
   ]
  },
  {
   "cell_type": "markdown",
   "id": "bbc3a32e-6b0d-452f-bde2-f181cc2f9ebb",
   "metadata": {
    "tags": []
   },
   "source": [
    "例题1：甲乙两人进行某种比赛, 设每局甲胜的概率是 $p$, 乙胜的概率是 $q$, 和局的概率 是 $r, p+q+r=1$ 。设每局比赛后, 胜者记 “+ 1 ” 分, 负者记 “- 1 ” 分, 和局不记分, 且当两人中有一人获得2分时结束比赛。以 $X_n$ 表示比赛至第$n$局时甲获得的分数, 则 $\\left\\{X_n, n=0,1,2, \\cdots\\right\\}$ 为时齐 Markov 链, 求在甲获得 1 分的情况下, 不超过两局可结束比赛的概率。"
   ]
  },
  {
   "cell_type": "markdown",
   "id": "8258675a-82fa-4f4d-b25b-0ccbc572397b",
   "metadata": {
    "tags": []
   },
   "source": [
    "$X_n$的状态空间为$\\{-2, -1, 0, 1, 2\\}$, $X_n$的一步转移矩阵和二步转移矩阵为："
   ]
  },
  {
   "cell_type": "code",
   "execution_count": 14,
   "id": "16c981d1-2f24-4fc5-83b1-4ff3808585ec",
   "metadata": {
    "tags": []
   },
   "outputs": [
    {
     "name": "stdout",
     "output_type": "stream",
     "text": [
      "一步转移矩阵:\n"
     ]
    },
    {
     "data": {
      "text/latex": [
       "$\\displaystyle \\left[\\begin{matrix}1 & 0 & 0 & 0 & 0\\\\q & r & p & 0 & 0\\\\0 & q & r & p & 0\\\\0 & 0 & q & r & p\\\\0 & 0 & 0 & 0 & 1\\end{matrix}\\right]$"
      ],
      "text/plain": [
       "Matrix([\n",
       "[1, 0, 0, 0, 0],\n",
       "[q, r, p, 0, 0],\n",
       "[0, q, r, p, 0],\n",
       "[0, 0, q, r, p],\n",
       "[0, 0, 0, 0, 1]])"
      ]
     },
     "execution_count": 14,
     "metadata": {},
     "output_type": "execute_result"
    }
   ],
   "source": [
    "from sympy import symbols, Matrix\n",
    "# Define the symbols\n",
    "p, q, r = symbols('p q r')\n",
    "\n",
    "# Define the matrix\n",
    "A = Matrix([\n",
    "    [1, 0, 0, 0, 0],\n",
    "    [q, r, p, 0, 0],\n",
    "    [0, q, r, p, 0],\n",
    "    [0, 0, q, r, p],\n",
    "    [0, 0, 0, 0, 1]])\n",
    "print('一步转移矩阵:')\n",
    "A"
   ]
  },
  {
   "cell_type": "code",
   "execution_count": 15,
   "id": "2b5b5b1e-1e70-49d9-b928-a6ee288d3563",
   "metadata": {
    "tags": []
   },
   "outputs": [
    {
     "name": "stdout",
     "output_type": "stream",
     "text": [
      "二步转移矩阵:\n"
     ]
    },
    {
     "data": {
      "text/latex": [
       "$\\displaystyle \\left[\\begin{matrix}1 & 0 & 0 & 0 & 0\\\\q r + q & p q + r^{2} & 2 p r & p^{2} & 0\\\\q^{2} & 2 q r & 2 p q + r^{2} & 2 p r & p^{2}\\\\0 & q^{2} & 2 q r & p q + r^{2} & p r + p\\\\0 & 0 & 0 & 0 & 1\\end{matrix}\\right]$"
      ],
      "text/plain": [
       "Matrix([\n",
       "[      1,          0,            0,          0,       0],\n",
       "[q*r + q, p*q + r**2,        2*p*r,       p**2,       0],\n",
       "[   q**2,      2*q*r, 2*p*q + r**2,      2*p*r,    p**2],\n",
       "[      0,       q**2,        2*q*r, p*q + r**2, p*r + p],\n",
       "[      0,          0,            0,          0,       1]])"
      ]
     },
     "execution_count": 15,
     "metadata": {},
     "output_type": "execute_result"
    }
   ],
   "source": [
    "# Compute the result\n",
    "A2 = A * A\n",
    "# Display the result\n",
    "print('二步转移矩阵:')\n",
    "A2"
   ]
  },
  {
   "cell_type": "code",
   "execution_count": 17,
   "id": "03f18e5e-415e-46e9-aa41-9ba0ba4f7621",
   "metadata": {
    "tags": []
   },
   "outputs": [
    {
     "name": "stdout",
     "output_type": "stream",
     "text": [
      "不超过两局可结束比赛的概率为\n"
     ]
    },
    {
     "data": {
      "text/latex": [
       "$\\displaystyle p^{2} + 2 p r + p$"
      ],
      "text/plain": [
       "p**2 + 2*p*r + p"
      ]
     },
     "execution_count": 17,
     "metadata": {},
     "output_type": "execute_result"
    }
   ],
   "source": [
    "P_end = A[1,2] + A[1,-2] +  A2[1,2] + A2[1,-2] \n",
    "print('不超过两局可结束比赛的概率为')\n",
    "P_end"
   ]
  },
  {
   "cell_type": "markdown",
   "id": "4a884f94-b245-48f8-a141-7aa193673adb",
   "metadata": {
    "tags": []
   },
   "source": [
    "Reference:  \n",
    "Ross, S. M. (2006). Markov Chains. In Introduction to Probability Models (10th ed., pp. 192-204). Elsevier Science & Technology.  \n",
    "张波, & 商豪. (2014). 应用随机过程(第三版). 中国人民大学出版社. (pp. 74-79)"
   ]
  }
 ],
 "metadata": {
  "kernelspec": {
   "display_name": "Python 3 (ipykernel)",
   "language": "python",
   "name": "python3"
  },
  "language_info": {
   "codemirror_mode": {
    "name": "ipython",
    "version": 3
   },
   "file_extension": ".py",
   "mimetype": "text/x-python",
   "name": "python",
   "nbconvert_exporter": "python",
   "pygments_lexer": "ipython3",
   "version": "3.11.3"
  }
 },
 "nbformat": 4,
 "nbformat_minor": 5
}
